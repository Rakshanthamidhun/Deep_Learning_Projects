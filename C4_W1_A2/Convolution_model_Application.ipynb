{
 "cells": [
  {
   "cell_type": "markdown",
   "metadata": {},
   "source": [
    "# Convolutional Neural Networks: Application\n",
    "\n",
    "Welcome to Course 4's second assignment! In this notebook, you will:\n",
    "\n",
    "- Create a mood classifer using the TF Keras Sequential API\n",
    "- Build a ConvNet to identify sign language digits using the TF Keras Functional API\n",
    "\n",
    "**After this assignment you will be able to:**\n",
    "\n",
    "- Build and train a ConvNet in TensorFlow for a __binary__ classification problem\n",
    "- Build and train a ConvNet in TensorFlow for a __multiclass__ classification problem\n",
    "- Explain different use cases for the Sequential and Functional APIs\n",
    "\n",
    "To complete this assignment, you should already be familiar with TensorFlow. If you are not, please refer back to the **TensorFlow Tutorial** of the third week of Course 2 (\"**Improving deep neural networks**\").\n",
    "\n",
    "## Important Note on Submission to the AutoGrader\n",
    "\n",
    "Before submitting your assignment to the AutoGrader, please make sure you are not doing the following:\n",
    "\n",
    "1. You have not added any _extra_ `print` statement(s) in the assignment.\n",
    "2. You have not added any _extra_ code cell(s) in the assignment.\n",
    "3. You have not changed any of the function parameters.\n",
    "4. You are not using any global variables inside your graded exercises. Unless specifically instructed to do so, please refrain from it and use the local variables instead.\n",
    "5. You are not changing the assignment code where it is not required, like creating _extra_ variables.\n",
    "\n",
    "If you do any of the following, you will get something like, `Grader Error: Grader feedback not found` (or similarly unexpected) error upon submitting your assignment. Before asking for help/debugging the errors in your assignment, check for these first. If this is the case, and you don't remember the changes you have made, you can get a fresh copy of the assignment by following these [instructions](https://www.coursera.org/learn/convolutional-neural-networks/supplement/DS4yP/h-ow-to-refresh-your-workspace)."
   ]
  },
  {
   "cell_type": "markdown",
   "metadata": {},
   "source": [
    "## Table of Contents\n",
    "\n",
    "- [1 - Packages](#1)\n",
    "    - [1.1 - Load the Data and Split the Data into Train/Test Sets](#1-1)\n",
    "- [2 - Layers in TF Keras](#2)\n",
    "- [3 - The Sequential API](#3)\n",
    "    - [3.1 - Create the Sequential Model](#3-1)\n",
    "        - [Exercise 1 - happyModel](#ex-1)\n",
    "    - [3.2 - Train and Evaluate the Model](#3-2)\n",
    "- [4 - The Functional API](#4)\n",
    "    - [4.1 - Load the SIGNS Dataset](#4-1)\n",
    "    - [4.2 - Split the Data into Train/Test Sets](#4-2)\n",
    "    - [4.3 - Forward Propagation](#4-3)\n",
    "        - [Exercise 2 - convolutional_model](#ex-2)\n",
    "    - [4.4 - Train the Model](#4-4)\n",
    "- [5 - History Object](#5)\n",
    "- [6 - Bibliography](#6)"
   ]
  },
  {
   "cell_type": "markdown",
   "metadata": {},
   "source": [
    "<a name='1'></a>\n",
    "## 1 - Packages\n",
    "\n",
    "As usual, begin by loading in the packages."
   ]
  },
  {
   "cell_type": "code",
   "execution_count": 10,
   "metadata": {
    "deletable": false,
    "editable": false
   },
   "outputs": [],
   "source": [
    "### v1.1"
   ]
  },
  {
   "cell_type": "code",
   "execution_count": 11,
   "metadata": {},
   "outputs": [],
   "source": [
    "import math\n",
    "import numpy as np\n",
    "import h5py\n",
    "import matplotlib.pyplot as plt\n",
    "from matplotlib.pyplot import imread\n",
    "import scipy\n",
    "from PIL import Image\n",
    "import pandas as pd\n",
    "import tensorflow as tf\n",
    "import tensorflow.keras.layers as tfl\n",
    "from tensorflow.python.framework import ops\n",
    "from cnn_utils import *\n",
    "from test_utils import summary, comparator\n",
    "\n",
    "%matplotlib inline\n",
    "np.random.seed(1)"
   ]
  },
  {
   "cell_type": "markdown",
   "metadata": {},
   "source": [
    "<a name='1-1'></a>\n",
    "### 1.1 - Load the Data and Split the Data into Train/Test Sets\n",
    "\n",
    "You'll be using the Happy House dataset for this part of the assignment, which contains images of peoples' faces. Your task will be to build a ConvNet that determines whether the people in the images are smiling or not -- because they only get to enter the house if they're smiling!  "
   ]
  },
  {
   "cell_type": "code",
   "execution_count": 12,
   "metadata": {},
   "outputs": [
    {
     "name": "stdout",
     "output_type": "stream",
     "text": [
      "number of training examples = 600\n",
      "number of test examples = 150\n",
      "X_train shape: (600, 64, 64, 3)\n",
      "Y_train shape: (600, 1)\n",
      "X_test shape: (150, 64, 64, 3)\n",
      "Y_test shape: (150, 1)\n"
     ]
    }
   ],
   "source": [
    "X_train_orig, Y_train_orig, X_test_orig, Y_test_orig, classes = load_happy_dataset()\n",
    "\n",
    "# Normalize image vectors\n",
    "X_train = X_train_orig/255.\n",
    "X_test = X_test_orig/255.\n",
    "\n",
    "# Reshape\n",
    "Y_train = Y_train_orig.T\n",
    "Y_test = Y_test_orig.T\n",
    "\n",
    "print (\"number of training examples = \" + str(X_train.shape[0]))\n",
    "print (\"number of test examples = \" + str(X_test.shape[0]))\n",
    "print (\"X_train shape: \" + str(X_train.shape))\n",
    "print (\"Y_train shape: \" + str(Y_train.shape))\n",
    "print (\"X_test shape: \" + str(X_test.shape))\n",
    "print (\"Y_test shape: \" + str(Y_test.shape))"
   ]
  },
  {
   "cell_type": "markdown",
   "metadata": {},
   "source": [
    "You can display the images contained in the dataset. Images are **64x64** pixels in RGB format (3 channels)."
   ]
  },
  {
   "cell_type": "code",
   "execution_count": 13,
   "metadata": {},
   "outputs": [
    {
     "data": {
      "image/png": "[encoded data removed]",
      "text/plain": [
       "<Figure size 432x288 with 1 Axes>"
      ]
     },
     "metadata": {
      "needs_background": "light"
     },
     "output_type": "display_data"
    }
   ],
   "source": [
    "index = 124\n",
    "plt.imshow(X_train_orig[index]) #display sample training image\n",
    "plt.show()"
   ]
  },
  {
   "cell_type": "markdown",
   "metadata": {},
   "source": [
    "<a name='2'></a>\n",
    "## 2 - Layers in TF Keras \n",
    "\n",
    "In the previous assignment, you created layers manually in numpy. In TF Keras, you don't have to write code directly to create layers. Rather, TF Keras has pre-defined layers you can use. \n",
    "\n",
    "When you create a layer in TF Keras, you are creating a function that takes some input and transforms it into an output you can reuse later. Nice and easy! "
   ]
  },
  {
   "cell_type": "markdown",
   "metadata": {},
   "source": [
    "<a name='3'></a>\n",
    "## 3 - The Sequential API\n",
    "\n",
    "In the previous assignment, you built helper functions using `numpy` to understand the mechanics behind convolutional neural networks. Most practical applications of deep learning today are built using programming frameworks, which have many built-in functions you can simply call. Keras is a high-level abstraction built on top of TensorFlow, which allows for even more simplified and optimized model creation and training. \n",
    "\n",
    "For the first part of this assignment, you'll create a model using TF Keras' Sequential API, which allows you to build layer by layer, and is ideal for building models where each layer has **exactly one** input tensor and **one** output tensor. \n",
    "\n",
    "As you'll see, using the Sequential API is simple and straightforward, but is only appropriate for simpler, more straightforward tasks. Later in this notebook you'll spend some time building with a more flexible, powerful alternative: the Functional API. \n",
    " "
   ]
  },
  {
   "cell_type": "markdown",
   "metadata": {},
   "source": [
    "<a name='3-1'></a>\n",
    "### 3.1 - Create the Sequential Model\n",
    "\n",
    "As mentioned earlier, the TensorFlow Keras Sequential API can be used to build simple models with layer operations that proceed in a sequential order. \n",
    "\n",
    "You can also add layers incrementally to a Sequential model with the `.add()` method, or remove them using the `.pop()` method, much like you would in a regular Python list.\n",
    "\n",
    "Actually, you can think of a Sequential model as behaving like a list of layers. Like Python lists, Sequential layers are ordered, and the order in which they are specified matters.  If your model is non-linear or contains layers with multiple inputs or outputs, a Sequential model wouldn't be the right choice!\n",
    "\n",
    "For any layer construction in Keras, you'll need to specify the input shape in advance. This is because in Keras, the shape of the weights is based on the shape of the inputs. The weights are only created when the model first sees some input data. Sequential models can be created by passing a list of layers to the Sequential constructor, like you will do in the next assignment.\n",
    "\n",
    "<a name='ex-1'></a>\n",
    "### Exercise 1 - happyModel\n",
    "\n",
    "Implement the `happyModel` function below to build the following model: `ZEROPAD2D -> CONV2D -> BATCHNORM -> RELU -> MAXPOOL -> FLATTEN -> DENSE`. Take help from [tf.keras.layers](https://www.tensorflow.org/api_docs/python/tf/keras/layers) \n",
    "\n",
    "Also, plug in the following parameters for all the steps:\n",
    "\n",
    " - [ZeroPadding2D](https://www.tensorflow.org/api_docs/python/tf/keras/layers/ZeroPadding2D): padding 3, input shape 64 x 64 x 3\n",
    " - [Conv2D](https://www.tensorflow.org/api_docs/python/tf/keras/layers/Conv2D): Use 32 7x7 filters, stride 1\n",
    " - [BatchNormalization](https://www.tensorflow.org/api_docs/python/tf/keras/layers/BatchNormalization): for axis 3\n",
    " - [ReLU](https://www.tensorflow.org/api_docs/python/tf/keras/layers/ReLU)\n",
    " - [MaxPool2D](https://www.tensorflow.org/api_docs/python/tf/keras/layers/MaxPool2D): Using default parameters\n",
    " - [Flatten](https://www.tensorflow.org/api_docs/python/tf/keras/layers/Flatten) the previous output.\n",
    " - Fully-connected ([Dense](https://www.tensorflow.org/api_docs/python/tf/keras/layers/Dense)) layer: Apply a fully connected layer with 1 neuron and a sigmoid activation. \n",
    " \n",
    " \n",
    " **Hint:**\n",
    " \n",
    " Use **tfl** as shorthand for **tensorflow.keras.layers**"
   ]
  },
  {
   "cell_type": "code",
   "execution_count": 14,
   "metadata": {
    "deletable": false,
    "nbgrader": {
     "cell_type": "code",
     "checksum": "95d28b191f257bdd5b70c7b8952559d5",
     "grade": false,
     "grade_id": "cell-0e56d3fc28b69aec",
     "locked": false,
     "schema_version": 3,
     "solution": true,
     "task": false
    }
   },
   "outputs": [],
   "source": [
    "# GRADED FUNCTION: happyModel\n",
    "\n",
    "def happyModel():\n",
    "    \"\"\"\n",
    "    Implements the forward propagation for the binary classification model:\n",
    "    ZEROPAD2D -> CONV2D -> BATCHNORM -> RELU -> MAXPOOL -> FLATTEN -> DENSE\n",
    "    \n",
    "    Note that for simplicity and grading purposes, you'll hard-code all the values\n",
    "    such as the stride and kernel (filter) sizes. \n",
    "    Normally, functions should take these values as function parameters.\n",
    "    \n",
    "    Arguments:\n",
    "    None\n",
    "\n",
    "    Returns:\n",
    "    model -- TF Keras model (object containing the information for the entire training process) \n",
    "    \"\"\"\n",
    "    model = tf.keras.Sequential([\n",
    "            ## ZeroPadding2D with padding 3, input shape of 64 x 64 x 3\n",
    "            ## Conv2D with 32 7x7 filters and stride of 1      \n",
    "            ## BatchNormalization for axis 3\n",
    "            ## ReLU\n",
    "            ## Max Pooling 2D with default parameters   \n",
    "            ## Flatten layer\n",
    "            ## Dense layer with 1 unit for output & 'sigmoid' activation\n",
    "            \n",
    "            # YOUR CODE STARTS HERE\n",
    "        \n",
    "            tfl.ZeroPadding2D(padding=3, input_shape=(64, 64, 3)),\n",
    "            tfl.Conv2D(filters=32, kernel_size=(7, 7), strides=(1, 1)),\n",
    "            tfl.BatchNormalization(axis=3),\n",
    "            tfl.ReLU(),\n",
    "            tfl.MaxPooling2D(),\n",
    "            tfl.Flatten(),\n",
    "            tfl.Dense(1, activation='sigmoid')\n",
    "        \n",
    "            # YOUR CODE ENDS HERE\n",
    "        ])\n",
    "    \n",
    "    return model"
   ]
  },
  {
   "cell_type": "code",
   "execution_count": 15,
   "metadata": {
    "deletable": false,
    "editable": false,
    "nbgrader": {
     "cell_type": "code",
     "checksum": "8d3575c950e2e78149be2d05d671c80d",
     "grade": true,
     "grade_id": "cell-e3e1046e5c33d775",
     "locked": true,
     "points": 10,
     "schema_version": 3,
     "solution": false,
     "task": false
    }
   },
   "outputs": [
    {
     "name": "stdout",
     "output_type": "stream",
     "text": [
      "['ZeroPadding2D', (None, 70, 70, 3), 0, ((3, 3), (3, 3))]\n",
      "['Conv2D', (None, 64, 64, 32), 4736, 'valid', 'linear', 'GlorotUniform']\n",
      "['BatchNormalization', (None, 64, 64, 32), 128]\n",
      "['ReLU', (None, 64, 64, 32), 0]\n",
      "['MaxPooling2D', (None, 32, 32, 32), 0, (2, 2), (2, 2), 'valid']\n",
      "['Flatten', (None, 32768), 0]\n",
      "['Dense', (None, 1), 32769, 'sigmoid']\n",
      "\u001b[32mAll tests passed!\u001b[0m\n"
     ]
    }
   ],
   "source": [
    "happy_model = happyModel()\n",
    "# Print a summary for each layer\n",
    "for layer in summary(happy_model):\n",
    "    print(layer)\n",
    "    \n",
    "output = [['ZeroPadding2D', (None, 70, 70, 3), 0, ((3, 3), (3, 3))],\n",
    "            ['Conv2D', (None, 64, 64, 32), 4736, 'valid', 'linear', 'GlorotUniform'],\n",
    "            ['BatchNormalization', (None, 64, 64, 32), 128],\n",
    "            ['ReLU', (None, 64, 64, 32), 0],\n",
    "            ['MaxPooling2D', (None, 32, 32, 32), 0, (2, 2), (2, 2), 'valid'],\n",
    "            ['Flatten', (None, 32768), 0],\n",
    "            ['Dense', (None, 1), 32769, 'sigmoid']]\n",
    "    \n",
    "comparator(summary(happy_model), output)"
   ]
  },
  {
   "cell_type": "markdown",
   "metadata": {},
   "source": [
    "#### Expected Output:\n",
    "\n",
    "```\n",
    "['ZeroPadding2D', (None, 70, 70, 3), 0, ((3, 3), (3, 3))]\n",
    "['Conv2D', (None, 64, 64, 32), 4736, 'valid', 'linear', 'GlorotUniform']\n",
    "['BatchNormalization', (None, 64, 64, 32), 128]\n",
    "['ReLU', (None, 64, 64, 32), 0]\n",
    "['MaxPooling2D', (None, 32, 32, 32), 0, (2, 2), (2, 2), 'valid']\n",
    "['Flatten', (None, 32768), 0]\n",
    "['Dense', (None, 1), 32769, 'sigmoid']\n",
    "All tests passed!\n",
    "```"
   ]
  },
  {
   "cell_type": "markdown",
   "metadata": {},
   "source": [
    "Now that your model is created, you can compile it for training with an optimizer and loss of your choice. When the string `accuracy` is specified as a metric, the type of accuracy used will be automatically converted based on the loss function used. This is one of the many optimizations built into TensorFlow that make your life easier! If you'd like to read more on how the compiler operates, check the docs [here](https://www.tensorflow.org/api_docs/python/tf/keras/Model#compile)."
   ]
  },
  {
   "cell_type": "code",
   "execution_count": 16,
   "metadata": {},
   "outputs": [],
   "source": [
    "happy_model.compile(optimizer='adam',\n",
    "                   loss='binary_crossentropy',\n",
    "                   metrics=['accuracy'])"
   ]
  },
  {
   "cell_type": "markdown",
   "metadata": {},
   "source": [
    "It's time to check your model's parameters with the `.summary()` method. This will display the types of layers you have, the shape of the outputs, and how many parameters are in each layer. "
   ]
  },
  {
   "cell_type": "code",
   "execution_count": 17,
   "metadata": {},
   "outputs": [
    {
     "name": "stdout",
     "output_type": "stream",
     "text": [
      "Model: \"sequential_1\"\n",
      "_________________________________________________________________\n",
      "Layer (type)                 Output Shape              Param #   \n",
      "=================================================================\n",
      "zero_padding2d_1 (ZeroPaddin (None, 70, 70, 3)         0         \n",
      "_________________________________________________________________\n",
      "conv2d_1 (Conv2D)            (None, 64, 64, 32)        4736      \n",
      "_________________________________________________________________\n",
      "batch_normalization_1 (Batch (None, 64, 64, 32)        128       \n",
      "_________________________________________________________________\n",
      "re_lu_1 (ReLU)               (None, 64, 64, 32)        0         \n",
      "_________________________________________________________________\n",
      "max_pooling2d_1 (MaxPooling2 (None, 32, 32, 32)        0         \n",
      "_________________________________________________________________\n",
      "flatten_1 (Flatten)          (None, 32768)             0         \n",
      "_________________________________________________________________\n",
      "dense_1 (Dense)              (None, 1)                 32769     \n",
      "=================================================================\n",
      "Total params: 37,633\n",
      "Trainable params: 37,569\n",
      "Non-trainable params: 64\n",
      "_________________________________________________________________\n"
     ]
    }
   ],
   "source": [
    "happy_model.summary()"
   ]
  },
  {
   "cell_type": "markdown",
   "metadata": {},
   "source": [
    "<a name='3-2'></a>\n",
    "### 3.2 - Train and Evaluate the Model\n",
    "\n",
    "After creating the model, compiling it with your choice of optimizer and loss function, and doing a sanity check on its contents, you are now ready to build! \n",
    "\n",
    "Simply call `.fit()` to train. That's it! No need for mini-batching, saving, or complex backpropagation computations. That's all been done for you, as you're using a TensorFlow dataset with the batches specified already. You do have the option to specify epoch number or minibatch size if you like (for example, in the case of an un-batched dataset)."
   ]
  },
  {
   "cell_type": "code",
   "execution_count": 18,
   "metadata": {},
   "outputs": [
    {
     "name": "stdout",
     "output_type": "stream",
     "text": [
      "Epoch 1/10\n",
      "38/38 [==============================] - 4s 103ms/step - loss: 1.3431 - accuracy: 0.7000\n",
      "Epoch 2/10\n",
      "38/38 [==============================] - 4s 95ms/step - loss: 0.3223 - accuracy: 0.8817\n",
      "Epoch 3/10\n",
      "38/38 [==============================] - 4s 98ms/step - loss: 0.2238 - accuracy: 0.9183\n",
      "Epoch 4/10\n",
      "38/38 [==============================] - 4s 97ms/step - loss: 0.2234 - accuracy: 0.9217\n",
      "Epoch 5/10\n",
      "38/38 [==============================] - 4s 97ms/step - loss: 0.1597 - accuracy: 0.9417\n",
      "Epoch 6/10\n",
      "38/38 [==============================] - 4s 95ms/step - loss: 0.0621 - accuracy: 0.9833\n",
      "Epoch 7/10\n",
      "38/38 [==============================] - 4s 95ms/step - loss: 0.0988 - accuracy: 0.9617\n",
      "Epoch 8/10\n",
      "38/38 [==============================] - 4s 95ms/step - loss: 0.1090 - accuracy: 0.9600\n",
      "Epoch 9/10\n",
      "38/38 [==============================] - 4s 95ms/step - loss: 0.0756 - accuracy: 0.9783\n",
      "Epoch 10/10\n",
      "38/38 [==============================] - 4s 97ms/step - loss: 0.0945 - accuracy: 0.9683\n"
     ]
    },
    {
     "data": {
      "text/plain": [
       "<tensorflow.python.keras.callbacks.History at 0x7bebe28fa2d0>"
      ]
     },
     "execution_count": 18,
     "metadata": {},
     "output_type": "execute_result"
    }
   ],
   "source": [
    "happy_model.fit(X_train, Y_train, epochs=10, batch_size=16)"
   ]
  },
  {
   "cell_type": "markdown",
   "metadata": {},
   "source": [
    "After that completes, just use `.evaluate()` to evaluate against your test set. This function will print the value of the loss function and the performance metrics specified during the compilation of the model. In this case, the `binary_crossentropy` and the `accuracy` respectively."
   ]
  },
  {
   "cell_type": "code",
   "execution_count": 19,
   "metadata": {},
   "outputs": [
    {
     "name": "stdout",
     "output_type": "stream",
     "text": [
      "5/5 [==============================] - 0s 28ms/step - loss: 0.6348 - accuracy: 0.7267\n"
     ]
    },
    {
     "data": {
      "text/plain": [
       "[0.6348433494567871, 0.7266666889190674]"
      ]
     },
     "execution_count": 19,
     "metadata": {},
     "output_type": "execute_result"
    }
   ],
   "source": [
    "happy_model.evaluate(X_test, Y_test)"
   ]
  },
  {
   "cell_type": "markdown",
   "metadata": {},
   "source": [
    "Easy, right? But what if you need to build a model with shared layers, branches, or multiple inputs and outputs? This is where Sequential, with its beautifully simple yet limited functionality, won't be able to help you. \n",
    "\n",
    "Next up: Enter the Functional API, your slightly more complex, highly flexible friend.  "
   ]
  },
  {
   "cell_type": "markdown",
   "metadata": {},
   "source": [
    "<a name='4'></a>\n",
    "## 4 - The Functional API"
   ]
  },
  {
   "cell_type": "markdown",
   "metadata": {},
   "source": [
    "Welcome to the second half of the assignment, where you'll use Keras' flexible [Functional API](https://www.tensorflow.org/guide/keras/functional) to build a ConvNet that can differentiate between 6 sign language digits. \n",
    "\n",
    "The Functional API can handle models with non-linear topology, shared layers, as well as layers with multiple inputs or outputs. Imagine that, where the Sequential API requires the model to move in a linear fashion through its layers, the Functional API allows much more flexibility. Where Sequential is a straight line, a Functional model is a graph, where the nodes of the layers can connect in many more ways than one. \n",
    "\n",
    "In the visual example below, the one possible direction of the movement Sequential model is shown in contrast to a skip connection, which is just one of the many ways a Functional model can be constructed. A skip connection, as you might have guessed, skips some layer in the network and feeds the output to a later layer in the network. Don't worry, you'll be spending more time with skip connections very soon! "
   ]
  },
  {
   "cell_type": "markdown",
   "metadata": {},
   "source": [
    "<img src=\"images/seq_vs_func.png\" style=\"width:350px;height:200px;\">"
   ]
  },
  {
   "cell_type": "markdown",
   "metadata": {},
   "source": [
    "<a name='4-1'></a>\n",
    "### 4.1 - Load the SIGNS Dataset\n",
    "\n",
    "As a reminder, the SIGNS dataset is a collection of 6 signs representing numbers from 0 to 5."
   ]
  },
  {
   "cell_type": "code",
   "execution_count": 20,
   "metadata": {},
   "outputs": [],
   "source": [
    "# Loading the data (signs)\n",
    "X_train_orig, Y_train_orig, X_test_orig, Y_test_orig, classes = load_signs_dataset()"
   ]
  },
  {
   "cell_type": "markdown",
   "metadata": {},
   "source": [
    "<img src=\"images/SIGNS.png\" style=\"width:800px;height:300px;\">\n",
    "\n",
    "The next cell will show you an example of a labelled image in the dataset. Feel free to change the value of `index` below and re-run to see different examples. "
   ]
  },
  {
   "cell_type": "code",
   "execution_count": 21,
   "metadata": {},
   "outputs": [
    {
     "name": "stdout",
     "output_type": "stream",
     "text": [
      "y = 4\n"
     ]
    },
    {
     "data": {
      "image/png": "[encoded data removed]",
      "text/plain": [
       "<Figure size 432x288 with 1 Axes>"
      ]
     },
     "metadata": {
      "needs_background": "light"
     },
     "output_type": "display_data"
    }
   ],
   "source": [
    "# Example of an image from the dataset\n",
    "index = 9\n",
    "plt.imshow(X_train_orig[index])\n",
    "print (\"y = \" + str(np.squeeze(Y_train_orig[:, index])))"
   ]
  },
  {
   "cell_type": "markdown",
   "metadata": {},
   "source": [
    "<a name='4-2'></a>\n",
    "### 4.2 - Split the Data into Train/Test Sets\n",
    "\n",
    "In Course 2, you built a fully-connected network for this dataset. But since this is an image dataset, it is more natural to apply a ConvNet to it.\n",
    "\n",
    "To get started, let's examine the shapes of your data. "
   ]
  },
  {
   "cell_type": "code",
   "execution_count": 22,
   "metadata": {},
   "outputs": [
    {
     "name": "stdout",
     "output_type": "stream",
     "text": [
      "number of training examples = 1080\n",
      "number of test examples = 120\n",
      "X_train shape: (1080, 64, 64, 3)\n",
      "Y_train shape: (1080, 6)\n",
      "X_test shape: (120, 64, 64, 3)\n",
      "Y_test shape: (120, 6)\n"
     ]
    }
   ],
   "source": [
    "X_train = X_train_orig/255.\n",
    "X_test = X_test_orig/255.\n",
    "Y_train = convert_to_one_hot(Y_train_orig, 6).T\n",
    "Y_test = convert_to_one_hot(Y_test_orig, 6).T\n",
    "print (\"number of training examples = \" + str(X_train.shape[0]))\n",
    "print (\"number of test examples = \" + str(X_test.shape[0]))\n",
    "print (\"X_train shape: \" + str(X_train.shape))\n",
    "print (\"Y_train shape: \" + str(Y_train.shape))\n",
    "print (\"X_test shape: \" + str(X_test.shape))\n",
    "print (\"Y_test shape: \" + str(Y_test.shape))"
   ]
  },
  {
   "cell_type": "markdown",
   "metadata": {},
   "source": [
    "<a name='4-3'></a>\n",
    "### 4.3 - Forward Propagation\n",
    "\n",
    "In TensorFlow, there are built-in functions that implement the convolution steps for you. By now, you should be familiar with how TensorFlow builds computational graphs. In the [Functional API](https://www.tensorflow.org/guide/keras/functional), you create a graph of layers. This is what allows such great flexibility.\n",
    "\n",
    "However, the following model could also be defined using the Sequential API since the information flow is on a single line. But don't deviate. What we want you to learn is to use the functional API.\n",
    "\n",
    "Begin building your graph of layers by creating an input node that functions as a callable object:\n",
    "\n",
    "- **input_img = tf.keras.Input(shape=input_shape):** \n",
    "\n",
    "Then, create a new node in the graph of layers by calling a layer on the `input_img` object: \n",
    "\n",
    "- **tf.keras.layers.Conv2D(filters= ... , kernel_size= ... , padding='same')(input_img):** Read the full documentation on [Conv2D](https://www.tensorflow.org/api_docs/python/tf/keras/layers/Conv2D).\n",
    "\n",
    "- **tf.keras.layers.MaxPool2D(pool_size=(f, f), strides=(s, s), padding='same'):** `MaxPool2D()` downsamples your input using a window of size (f, f) and strides of size (s, s) to carry out max pooling over each window.  For max pooling, you usually operate on a single example at a time and a single channel at a time. Read the full documentation on [MaxPool2D](https://www.tensorflow.org/api_docs/python/tf/keras/layers/MaxPool2D).\n",
    "\n",
    "- **tf.keras.layers.ReLU():** computes the elementwise ReLU of Z (which can be any shape). You can read the full documentation on [ReLU](https://www.tensorflow.org/api_docs/python/tf/keras/layers/ReLU).\n",
    "\n",
    "- **tf.keras.layers.Flatten()**: given a tensor \"P\", this function takes each training (or test) example in the batch and flattens it into a 1D vector.  \n",
    "\n",
    "    * If a tensor P has the shape (batch_size,h,w,c), it returns a flattened tensor with shape (batch_size, k), where $k=h \\times w \\times c$.  \"k\" equals the product of all the dimension sizes other than the first dimension.\n",
    "    \n",
    "    * For example, given a tensor with dimensions [100, 2, 3, 4], it flattens the tensor to be of shape [100, 24], where 24 = 2 * 3 * 4.  You can read the full documentation on [Flatten](https://www.tensorflow.org/api_docs/python/tf/keras/layers/Flatten).\n",
    "\n",
    "- **tf.keras.layers.Dense(units= ... , activation='softmax')(F):** given the flattened input F, it returns the output computed using a fully connected layer. You can read the full documentation on [Dense](https://www.tensorflow.org/api_docs/python/tf/keras/layers/Dense).\n",
    "\n",
    "In the last function above (`tf.keras.layers.Dense()`), the fully connected layer automatically initializes weights in the graph and keeps on training them as you train the model. Hence, you did not need to initialize those weights when initializing the parameters.\n",
    "\n",
    "Lastly, before creating the model, you'll need to define the output using the last of the function's compositions (in this example, a Dense layer): \n",
    "\n",
    "- **outputs = tf.keras.layers.Dense(units=6, activation='softmax')(F)**\n",
    "\n",
    "\n",
    "#### Window, kernel, filter, pool\n",
    "\n",
    "The words \"kernel\" and \"filter\" are used to refer to the same thing. The word \"filter\" accounts for the amount of \"kernels\" that will be used in a single convolution layer. \"Pool\" is the name of the operation that takes the max or average value of the kernels. \n",
    "\n",
    "This is why the parameter `pool_size` refers to `kernel_size`, and you use `(f,f)` to refer to the filter size. \n",
    "\n",
    "Pool size and kernel size refer to the same thing in different objects - They refer to the shape of the window where the operation takes place. "
   ]
  },
  {
   "cell_type": "markdown",
   "metadata": {},
   "source": [
    "<a name='ex-2'></a>\n",
    "### Exercise 2 - convolutional_model\n",
    "\n",
    "Implement the `convolutional_model` function below to build the following model: `CONV2D -> RELU -> MAXPOOL -> CONV2D -> RELU -> MAXPOOL -> FLATTEN -> DENSE`. Use the functions above! \n",
    "\n",
    "Also, plug in the following parameters for all the steps:\n",
    "\n",
    " - [Conv2D](https://www.tensorflow.org/api_docs/python/tf/keras/layers/Conv2D): Use 8 4 by 4 filters, stride 1, padding is \"SAME\"\n",
    " - [ReLU](https://www.tensorflow.org/api_docs/python/tf/keras/layers/ReLU)\n",
    " - [MaxPool2D](https://www.tensorflow.org/api_docs/python/tf/keras/layers/MaxPool2D): Use an 8 by 8 filter size and an 8 by 8 stride, padding is \"SAME\"\n",
    " - **Conv2D**: Use 16 2 by 2 filters, stride 1, padding is \"SAME\"\n",
    " - **ReLU**\n",
    " - **MaxPool2D**: Use a 4 by 4 filter size and a 4 by 4 stride, padding is \"SAME\"\n",
    " - [Flatten](https://www.tensorflow.org/api_docs/python/tf/keras/layers/Flatten) the previous output.\n",
    " - Fully-connected ([Dense](https://www.tensorflow.org/api_docs/python/tf/keras/layers/Dense)) layer: Apply a fully connected layer with 6 neurons and a softmax activation. "
   ]
  },
  {
   "cell_type": "code",
   "execution_count": 23,
   "metadata": {
    "deletable": false,
    "nbgrader": {
     "cell_type": "code",
     "checksum": "f58643806aa8380c96225fc8b4c5e7aa",
     "grade": false,
     "grade_id": "cell-dac51744a9e03f51",
     "locked": false,
     "schema_version": 3,
     "solution": true,
     "task": false
    }
   },
   "outputs": [],
   "source": [
    "# GRADED FUNCTION: convolutional_model\n",
    "\n",
    "def convolutional_model(input_shape):\n",
    "    \"\"\"\n",
    "    Implements the forward propagation for the model:\n",
    "    CONV2D -> RELU -> MAXPOOL -> CONV2D -> RELU -> MAXPOOL -> FLATTEN -> DENSE\n",
    "    \n",
    "    Note that for simplicity and grading purposes, you'll hard-code some values\n",
    "    such as the stride and kernel (filter) sizes. \n",
    "    Normally, functions should take these values as function parameters.\n",
    "    \n",
    "    Arguments:\n",
    "    input_img -- input dataset, of shape (input_shape)\n",
    "\n",
    "    Returns:\n",
    "    model -- TF Keras model (object containing the information for the entire training process) \n",
    "    \"\"\"\n",
    "\n",
    "    input_img = tf.keras.Input(shape=input_shape)\n",
    "    ## CONV2D: 8 filters 4x4, stride of 1, padding 'SAME'\n",
    "    # Z1 = None\n",
    "    ## RELU\n",
    "    # A1 = None\n",
    "    ## MAXPOOL: window 8x8, stride 8, padding 'SAME'\n",
    "    # P1 = None\n",
    "    ## CONV2D: 16 filters 2x2, stride 1, padding 'SAME'\n",
    "    # Z2 = None\n",
    "    ## RELU\n",
    "    # A2 = None\n",
    "    ## MAXPOOL: window 4x4, stride 4, padding 'SAME'\n",
    "    # P2 = None\n",
    "    ## FLATTEN\n",
    "    # F = None\n",
    "    ## Dense layer\n",
    "    ## 6 neurons in output layer. Hint: one of the arguments should be \"activation='softmax'\" \n",
    "    # outputs = None\n",
    "    # YOUR CODE STARTS HERE\n",
    "    \n",
    "    Z1 = tfl.Conv2D(filters=8, kernel_size=(4, 4), strides=(1, 1), padding='same')(input_img)\n",
    "    A1 = tfl.ReLU()(Z1)\n",
    "    P1 = tfl.MaxPooling2D(pool_size=(8, 8), strides=(8, 8), padding='same')(A1)\n",
    "    Z2 = tfl.Conv2D(filters=16, kernel_size=(2, 2), strides=(1, 1), padding='same')(P1)\n",
    "    A2 = tfl.ReLU()(Z2)\n",
    "    P2 = tfl.MaxPooling2D(pool_size=(4, 4), strides=(4, 4), padding='same')(A2)\n",
    "    F = tfl.Flatten()(P2)\n",
    "    outputs = tfl.Dense(units=6, activation='softmax')(F)\n",
    "    \n",
    "    # YOUR CODE ENDS HERE\n",
    "    model = tf.keras.Model(inputs=input_img, outputs=outputs)\n",
    "    return model"
   ]
  },
  {
   "cell_type": "code",
   "execution_count": 24,
   "metadata": {
    "deletable": false,
    "editable": false,
    "nbgrader": {
     "cell_type": "code",
     "checksum": "483d626949930a0b0ef20997e7c6ba72",
     "grade": true,
     "grade_id": "cell-45d22e92042174c9",
     "locked": true,
     "points": 10,
     "schema_version": 3,
     "solution": false,
     "task": false
    }
   },
   "outputs": [
    {
     "name": "stdout",
     "output_type": "stream",
     "text": [
      "Model: \"functional_1\"\n",
      "_________________________________________________________________\n",
      "Layer (type)                 Output Shape              Param #   \n",
      "=================================================================\n",
      "input_1 (InputLayer)         [(None, 64, 64, 3)]       0         \n",
      "_________________________________________________________________\n",
      "conv2d_2 (Conv2D)            (None, 64, 64, 8)         392       \n",
      "_________________________________________________________________\n",
      "re_lu_2 (ReLU)               (None, 64, 64, 8)         0         \n",
      "_________________________________________________________________\n",
      "max_pooling2d_2 (MaxPooling2 (None, 8, 8, 8)           0         \n",
      "_________________________________________________________________\n",
      "conv2d_3 (Conv2D)            (None, 8, 8, 16)          528       \n",
      "_________________________________________________________________\n",
      "re_lu_3 (ReLU)               (None, 8, 8, 16)          0         \n",
      "_________________________________________________________________\n",
      "max_pooling2d_3 (MaxPooling2 (None, 2, 2, 16)          0         \n",
      "_________________________________________________________________\n",
      "flatten_2 (Flatten)          (None, 64)                0         \n",
      "_________________________________________________________________\n",
      "dense_2 (Dense)              (None, 6)                 390       \n",
      "=================================================================\n",
      "Total params: 1,310\n",
      "Trainable params: 1,310\n",
      "Non-trainable params: 0\n",
      "_________________________________________________________________\n",
      "\u001b[32mAll tests passed!\u001b[0m\n"
     ]
    }
   ],
   "source": [
    "conv_model = convolutional_model((64, 64, 3))\n",
    "conv_model.compile(optimizer='adam',\n",
    "                  loss='categorical_crossentropy',\n",
    "                  metrics=['accuracy'])\n",
    "conv_model.summary()\n",
    "    \n",
    "output = [['InputLayer', [(None, 64, 64, 3)], 0],\n",
    "        ['Conv2D', (None, 64, 64, 8), 392, 'same', 'linear', 'GlorotUniform'],\n",
    "        ['ReLU', (None, 64, 64, 8), 0],\n",
    "        ['MaxPooling2D', (None, 8, 8, 8), 0, (8, 8), (8, 8), 'same'],\n",
    "        ['Conv2D', (None, 8, 8, 16), 528, 'same', 'linear', 'GlorotUniform'],\n",
    "        ['ReLU', (None, 8, 8, 16), 0],\n",
    "        ['MaxPooling2D', (None, 2, 2, 16), 0, (4, 4), (4, 4), 'same'],\n",
    "        ['Flatten', (None, 64), 0],\n",
    "        ['Dense', (None, 6), 390, 'softmax']]\n",
    "    \n",
    "comparator(summary(conv_model), output)"
   ]
  },
  {
   "cell_type": "markdown",
   "metadata": {},
   "source": [
    "Both the Sequential and Functional APIs return a TF Keras model object. The only difference is how inputs are handled inside the object model! "
   ]
  },
  {
   "cell_type": "markdown",
   "metadata": {},
   "source": [
    "<a name='4-4'></a>\n",
    "### 4.4 - Train the Model"
   ]
  },
  {
   "cell_type": "code",
   "execution_count": 25,
   "metadata": {},
   "outputs": [
    {
     "name": "stdout",
     "output_type": "stream",
     "text": [
      "Epoch 1/100\n",
      "17/17 [==============================] - 2s 111ms/step - loss: 1.7997 - accuracy: 0.1509 - val_loss: 1.7897 - val_accuracy: 0.1250\n",
      "Epoch 2/100\n",
      "17/17 [==============================] - 2s 106ms/step - loss: 1.7829 - accuracy: 0.1824 - val_loss: 1.7859 - val_accuracy: 0.1500\n",
      "Epoch 3/100\n",
      "17/17 [==============================] - 2s 106ms/step - loss: 1.7771 - accuracy: 0.2380 - val_loss: 1.7826 - val_accuracy: 0.1500\n",
      "Epoch 4/100\n",
      "17/17 [==============================] - 2s 106ms/step - loss: 1.7716 - accuracy: 0.2620 - val_loss: 1.7774 - val_accuracy: 0.1833\n",
      "Epoch 5/100\n",
      "17/17 [==============================] - 2s 101ms/step - loss: 1.7651 - accuracy: 0.2759 - val_loss: 1.7714 - val_accuracy: 0.2333\n",
      "Epoch 6/100\n",
      "17/17 [==============================] - 2s 106ms/step - loss: 1.7571 - accuracy: 0.3009 - val_loss: 1.7645 - val_accuracy: 0.2750\n",
      "Epoch 7/100\n",
      "17/17 [==============================] - 2s 106ms/step - loss: 1.7474 - accuracy: 0.3296 - val_loss: 1.7559 - val_accuracy: 0.2917\n",
      "Epoch 8/100\n",
      "17/17 [==============================] - 2s 106ms/step - loss: 1.7361 - accuracy: 0.3500 - val_loss: 1.7457 - val_accuracy: 0.2833\n",
      "Epoch 9/100\n",
      "17/17 [==============================] - 2s 112ms/step - loss: 1.7216 - accuracy: 0.3519 - val_loss: 1.7322 - val_accuracy: 0.2917\n",
      "Epoch 10/100\n",
      "17/17 [==============================] - 2s 106ms/step - loss: 1.7046 - accuracy: 0.3852 - val_loss: 1.7166 - val_accuracy: 0.3250\n",
      "Epoch 11/100\n",
      "17/17 [==============================] - 2s 106ms/step - loss: 1.6840 - accuracy: 0.4139 - val_loss: 1.6974 - val_accuracy: 0.3583\n",
      "Epoch 12/100\n",
      "17/17 [==============================] - 2s 106ms/step - loss: 1.6594 - accuracy: 0.4296 - val_loss: 1.6734 - val_accuracy: 0.3917\n",
      "Epoch 13/100\n",
      "17/17 [==============================] - 2s 106ms/step - loss: 1.6285 - accuracy: 0.4574 - val_loss: 1.6459 - val_accuracy: 0.4167\n",
      "Epoch 14/100\n",
      "17/17 [==============================] - 2s 112ms/step - loss: 1.5942 - accuracy: 0.4843 - val_loss: 1.6153 - val_accuracy: 0.4333\n",
      "Epoch 15/100\n",
      "17/17 [==============================] - 2s 106ms/step - loss: 1.5565 - accuracy: 0.5074 - val_loss: 1.5807 - val_accuracy: 0.4417\n",
      "Epoch 16/100\n",
      "17/17 [==============================] - 2s 106ms/step - loss: 1.5154 - accuracy: 0.5157 - val_loss: 1.5429 - val_accuracy: 0.4667\n",
      "Epoch 17/100\n",
      "17/17 [==============================] - 2s 106ms/step - loss: 1.4705 - accuracy: 0.5296 - val_loss: 1.5010 - val_accuracy: 0.4833\n",
      "Epoch 18/100\n",
      "17/17 [==============================] - 2s 106ms/step - loss: 1.4226 - accuracy: 0.5426 - val_loss: 1.4572 - val_accuracy: 0.4917\n",
      "Epoch 19/100\n",
      "17/17 [==============================] - 2s 106ms/step - loss: 1.3755 - accuracy: 0.5528 - val_loss: 1.4132 - val_accuracy: 0.5083\n",
      "Epoch 20/100\n",
      "17/17 [==============================] - 2s 106ms/step - loss: 1.3301 - accuracy: 0.5648 - val_loss: 1.3734 - val_accuracy: 0.5250\n",
      "Epoch 21/100\n",
      "17/17 [==============================] - 2s 111ms/step - loss: 1.2884 - accuracy: 0.5778 - val_loss: 1.3344 - val_accuracy: 0.5250\n",
      "Epoch 22/100\n",
      "17/17 [==============================] - 2s 106ms/step - loss: 1.2490 - accuracy: 0.5917 - val_loss: 1.2970 - val_accuracy: 0.5333\n",
      "Epoch 23/100\n",
      "17/17 [==============================] - 2s 106ms/step - loss: 1.2117 - accuracy: 0.6074 - val_loss: 1.2599 - val_accuracy: 0.5333\n",
      "Epoch 24/100\n",
      "17/17 [==============================] - 2s 107ms/step - loss: 1.1770 - accuracy: 0.6204 - val_loss: 1.2240 - val_accuracy: 0.5333\n",
      "Epoch 25/100\n",
      "17/17 [==============================] - 2s 106ms/step - loss: 1.1446 - accuracy: 0.6278 - val_loss: 1.1914 - val_accuracy: 0.5333\n",
      "Epoch 26/100\n",
      "17/17 [==============================] - 2s 106ms/step - loss: 1.1153 - accuracy: 0.6398 - val_loss: 1.1594 - val_accuracy: 0.5667\n",
      "Epoch 27/100\n",
      "17/17 [==============================] - 2s 111ms/step - loss: 1.0874 - accuracy: 0.6444 - val_loss: 1.1297 - val_accuracy: 0.5750\n",
      "Epoch 28/100\n",
      "17/17 [==============================] - 2s 106ms/step - loss: 1.0619 - accuracy: 0.6491 - val_loss: 1.1033 - val_accuracy: 0.5750\n",
      "Epoch 29/100\n",
      "17/17 [==============================] - 2s 106ms/step - loss: 1.0383 - accuracy: 0.6556 - val_loss: 1.0773 - val_accuracy: 0.5750\n",
      "Epoch 30/100\n",
      "17/17 [==============================] - 2s 106ms/step - loss: 1.0150 - accuracy: 0.6602 - val_loss: 1.0514 - val_accuracy: 0.6000\n",
      "Epoch 31/100\n",
      "17/17 [==============================] - 2s 106ms/step - loss: 0.9930 - accuracy: 0.6694 - val_loss: 1.0288 - val_accuracy: 0.6167\n",
      "Epoch 32/100\n",
      "17/17 [==============================] - 2s 106ms/step - loss: 0.9719 - accuracy: 0.6741 - val_loss: 1.0072 - val_accuracy: 0.6250\n",
      "Epoch 33/100\n",
      "17/17 [==============================] - 2s 111ms/step - loss: 0.9519 - accuracy: 0.6815 - val_loss: 0.9860 - val_accuracy: 0.6500\n",
      "Epoch 34/100\n",
      "17/17 [==============================] - 2s 111ms/step - loss: 0.9326 - accuracy: 0.6889 - val_loss: 0.9671 - val_accuracy: 0.6500\n",
      "Epoch 35/100\n",
      "17/17 [==============================] - 2s 111ms/step - loss: 0.9140 - accuracy: 0.6954 - val_loss: 0.9491 - val_accuracy: 0.6667\n",
      "Epoch 36/100\n",
      "17/17 [==============================] - 2s 106ms/step - loss: 0.8960 - accuracy: 0.7028 - val_loss: 0.9315 - val_accuracy: 0.6750\n",
      "Epoch 37/100\n",
      "17/17 [==============================] - 2s 106ms/step - loss: 0.8787 - accuracy: 0.7102 - val_loss: 0.9155 - val_accuracy: 0.6917\n",
      "Epoch 38/100\n",
      "17/17 [==============================] - 2s 106ms/step - loss: 0.8620 - accuracy: 0.7120 - val_loss: 0.8993 - val_accuracy: 0.6917\n",
      "Epoch 39/100\n",
      "17/17 [==============================] - 2s 106ms/step - loss: 0.8458 - accuracy: 0.7176 - val_loss: 0.8837 - val_accuracy: 0.7000\n",
      "Epoch 40/100\n",
      "17/17 [==============================] - 2s 107ms/step - loss: 0.8303 - accuracy: 0.7250 - val_loss: 0.8690 - val_accuracy: 0.7167\n",
      "Epoch 41/100\n",
      "17/17 [==============================] - 2s 106ms/step - loss: 0.8155 - accuracy: 0.7287 - val_loss: 0.8546 - val_accuracy: 0.7167\n",
      "Epoch 42/100\n",
      "17/17 [==============================] - 2s 106ms/step - loss: 0.8011 - accuracy: 0.7333 - val_loss: 0.8412 - val_accuracy: 0.7333\n",
      "Epoch 43/100\n",
      "17/17 [==============================] - 2s 106ms/step - loss: 0.7874 - accuracy: 0.7370 - val_loss: 0.8287 - val_accuracy: 0.7417\n",
      "Epoch 44/100\n",
      "17/17 [==============================] - 2s 106ms/step - loss: 0.7747 - accuracy: 0.7417 - val_loss: 0.8174 - val_accuracy: 0.7417\n",
      "Epoch 45/100\n",
      "17/17 [==============================] - 2s 111ms/step - loss: 0.7627 - accuracy: 0.7435 - val_loss: 0.8061 - val_accuracy: 0.7500\n",
      "Epoch 46/100\n",
      "17/17 [==============================] - 2s 111ms/step - loss: 0.7507 - accuracy: 0.7472 - val_loss: 0.7956 - val_accuracy: 0.7500\n",
      "Epoch 47/100\n",
      "17/17 [==============================] - 2s 111ms/step - loss: 0.7393 - accuracy: 0.7500 - val_loss: 0.7861 - val_accuracy: 0.7500\n",
      "Epoch 48/100\n",
      "17/17 [==============================] - 2s 107ms/step - loss: 0.7283 - accuracy: 0.7509 - val_loss: 0.7764 - val_accuracy: 0.7500\n",
      "Epoch 49/100\n",
      "17/17 [==============================] - 2s 106ms/step - loss: 0.7181 - accuracy: 0.7556 - val_loss: 0.7677 - val_accuracy: 0.7583\n",
      "Epoch 50/100\n",
      "17/17 [==============================] - 2s 106ms/step - loss: 0.7081 - accuracy: 0.7648 - val_loss: 0.7592 - val_accuracy: 0.7583\n",
      "Epoch 51/100\n",
      "17/17 [==============================] - 2s 106ms/step - loss: 0.6980 - accuracy: 0.7648 - val_loss: 0.7512 - val_accuracy: 0.7667\n",
      "Epoch 52/100\n",
      "17/17 [==============================] - 2s 106ms/step - loss: 0.6888 - accuracy: 0.7685 - val_loss: 0.7439 - val_accuracy: 0.7583\n",
      "Epoch 53/100\n",
      "17/17 [==============================] - 2s 106ms/step - loss: 0.6799 - accuracy: 0.7704 - val_loss: 0.7363 - val_accuracy: 0.7583\n",
      "Epoch 54/100\n",
      "17/17 [==============================] - 2s 106ms/step - loss: 0.6710 - accuracy: 0.7769 - val_loss: 0.7300 - val_accuracy: 0.7583\n",
      "Epoch 55/100\n",
      "17/17 [==============================] - 2s 107ms/step - loss: 0.6628 - accuracy: 0.7806 - val_loss: 0.7228 - val_accuracy: 0.7583\n",
      "Epoch 56/100\n",
      "17/17 [==============================] - 2s 106ms/step - loss: 0.6545 - accuracy: 0.7824 - val_loss: 0.7163 - val_accuracy: 0.7583\n",
      "Epoch 57/100\n",
      "17/17 [==============================] - 2s 112ms/step - loss: 0.6470 - accuracy: 0.7824 - val_loss: 0.7101 - val_accuracy: 0.7583\n"
     ]
    },
    {
     "name": "stdout",
     "output_type": "stream",
     "text": [
      "Epoch 58/100\n",
      "17/17 [==============================] - 2s 111ms/step - loss: 0.6391 - accuracy: 0.7861 - val_loss: 0.7039 - val_accuracy: 0.7583\n",
      "Epoch 59/100\n",
      "17/17 [==============================] - 2s 111ms/step - loss: 0.6321 - accuracy: 0.7907 - val_loss: 0.6986 - val_accuracy: 0.7500\n",
      "Epoch 60/100\n",
      "17/17 [==============================] - 2s 111ms/step - loss: 0.6245 - accuracy: 0.7935 - val_loss: 0.6918 - val_accuracy: 0.7500\n",
      "Epoch 61/100\n",
      "17/17 [==============================] - 2s 107ms/step - loss: 0.6177 - accuracy: 0.7917 - val_loss: 0.6869 - val_accuracy: 0.7500\n",
      "Epoch 62/100\n",
      "17/17 [==============================] - 2s 106ms/step - loss: 0.6109 - accuracy: 0.8000 - val_loss: 0.6816 - val_accuracy: 0.7583\n",
      "Epoch 63/100\n",
      "17/17 [==============================] - 2s 106ms/step - loss: 0.6045 - accuracy: 0.8009 - val_loss: 0.6771 - val_accuracy: 0.7583\n",
      "Epoch 64/100\n",
      "17/17 [==============================] - 2s 106ms/step - loss: 0.5981 - accuracy: 0.8019 - val_loss: 0.6708 - val_accuracy: 0.7583\n",
      "Epoch 65/100\n",
      "17/17 [==============================] - 2s 106ms/step - loss: 0.5921 - accuracy: 0.8037 - val_loss: 0.6670 - val_accuracy: 0.7583\n",
      "Epoch 66/100\n",
      "17/17 [==============================] - 2s 106ms/step - loss: 0.5860 - accuracy: 0.8065 - val_loss: 0.6617 - val_accuracy: 0.7500\n",
      "Epoch 67/100\n",
      "17/17 [==============================] - 2s 112ms/step - loss: 0.5802 - accuracy: 0.8083 - val_loss: 0.6571 - val_accuracy: 0.7583\n",
      "Epoch 68/100\n",
      "17/17 [==============================] - 2s 106ms/step - loss: 0.5746 - accuracy: 0.8102 - val_loss: 0.6515 - val_accuracy: 0.7583\n",
      "Epoch 69/100\n",
      "17/17 [==============================] - 2s 111ms/step - loss: 0.5688 - accuracy: 0.8139 - val_loss: 0.6458 - val_accuracy: 0.7500\n",
      "Epoch 70/100\n",
      "17/17 [==============================] - 2s 107ms/step - loss: 0.5629 - accuracy: 0.8148 - val_loss: 0.6414 - val_accuracy: 0.7583\n",
      "Epoch 71/100\n",
      "17/17 [==============================] - 2s 106ms/step - loss: 0.5588 - accuracy: 0.8167 - val_loss: 0.6335 - val_accuracy: 0.7500\n",
      "Epoch 72/100\n",
      "17/17 [==============================] - 2s 112ms/step - loss: 0.5529 - accuracy: 0.8204 - val_loss: 0.6291 - val_accuracy: 0.7500\n",
      "Epoch 73/100\n",
      "17/17 [==============================] - 2s 111ms/step - loss: 0.5480 - accuracy: 0.8231 - val_loss: 0.6260 - val_accuracy: 0.7583\n",
      "Epoch 74/100\n",
      "17/17 [==============================] - 2s 106ms/step - loss: 0.5426 - accuracy: 0.8250 - val_loss: 0.6220 - val_accuracy: 0.7500\n",
      "Epoch 75/100\n",
      "17/17 [==============================] - 2s 112ms/step - loss: 0.5374 - accuracy: 0.8250 - val_loss: 0.6181 - val_accuracy: 0.7667\n",
      "Epoch 76/100\n",
      "17/17 [==============================] - 2s 106ms/step - loss: 0.5324 - accuracy: 0.8269 - val_loss: 0.6162 - val_accuracy: 0.7667\n",
      "Epoch 77/100\n",
      "17/17 [==============================] - 2s 106ms/step - loss: 0.5283 - accuracy: 0.8269 - val_loss: 0.6111 - val_accuracy: 0.7667\n",
      "Epoch 78/100\n",
      "17/17 [==============================] - 2s 106ms/step - loss: 0.5231 - accuracy: 0.8306 - val_loss: 0.6077 - val_accuracy: 0.7667\n",
      "Epoch 79/100\n",
      "17/17 [==============================] - 2s 107ms/step - loss: 0.5188 - accuracy: 0.8315 - val_loss: 0.6039 - val_accuracy: 0.7667\n",
      "Epoch 80/100\n",
      "17/17 [==============================] - 2s 106ms/step - loss: 0.5138 - accuracy: 0.8324 - val_loss: 0.6004 - val_accuracy: 0.7667\n",
      "Epoch 81/100\n",
      "17/17 [==============================] - 2s 111ms/step - loss: 0.5094 - accuracy: 0.8380 - val_loss: 0.5969 - val_accuracy: 0.7667\n",
      "Epoch 82/100\n",
      "17/17 [==============================] - 2s 106ms/step - loss: 0.5051 - accuracy: 0.8389 - val_loss: 0.5936 - val_accuracy: 0.7667\n",
      "Epoch 83/100\n",
      "17/17 [==============================] - 2s 107ms/step - loss: 0.5007 - accuracy: 0.8407 - val_loss: 0.5904 - val_accuracy: 0.7667\n",
      "Epoch 84/100\n",
      "17/17 [==============================] - 2s 106ms/step - loss: 0.4966 - accuracy: 0.8407 - val_loss: 0.5874 - val_accuracy: 0.7667\n",
      "Epoch 85/100\n",
      "17/17 [==============================] - 2s 111ms/step - loss: 0.4926 - accuracy: 0.8435 - val_loss: 0.5844 - val_accuracy: 0.7750\n",
      "Epoch 86/100\n",
      "17/17 [==============================] - 2s 111ms/step - loss: 0.4884 - accuracy: 0.8426 - val_loss: 0.5812 - val_accuracy: 0.7833\n",
      "Epoch 87/100\n",
      "17/17 [==============================] - 2s 106ms/step - loss: 0.4846 - accuracy: 0.8435 - val_loss: 0.5782 - val_accuracy: 0.7833\n",
      "Epoch 88/100\n",
      "17/17 [==============================] - 2s 106ms/step - loss: 0.4806 - accuracy: 0.8454 - val_loss: 0.5754 - val_accuracy: 0.7917\n",
      "Epoch 89/100\n",
      "17/17 [==============================] - 2s 106ms/step - loss: 0.4769 - accuracy: 0.8454 - val_loss: 0.5716 - val_accuracy: 0.7917\n",
      "Epoch 90/100\n",
      "17/17 [==============================] - 2s 106ms/step - loss: 0.4731 - accuracy: 0.8454 - val_loss: 0.5678 - val_accuracy: 0.7917\n",
      "Epoch 91/100\n",
      "17/17 [==============================] - 2s 107ms/step - loss: 0.4693 - accuracy: 0.8463 - val_loss: 0.5652 - val_accuracy: 0.7917\n",
      "Epoch 92/100\n",
      "17/17 [==============================] - 2s 106ms/step - loss: 0.4654 - accuracy: 0.8481 - val_loss: 0.5625 - val_accuracy: 0.7917\n",
      "Epoch 93/100\n",
      "17/17 [==============================] - 2s 106ms/step - loss: 0.4618 - accuracy: 0.8491 - val_loss: 0.5595 - val_accuracy: 0.7917\n",
      "Epoch 94/100\n",
      "17/17 [==============================] - 2s 106ms/step - loss: 0.4582 - accuracy: 0.8500 - val_loss: 0.5568 - val_accuracy: 0.7917\n",
      "Epoch 95/100\n",
      "17/17 [==============================] - 2s 111ms/step - loss: 0.4546 - accuracy: 0.8509 - val_loss: 0.5538 - val_accuracy: 0.7917\n",
      "Epoch 96/100\n",
      "17/17 [==============================] - 2s 111ms/step - loss: 0.4512 - accuracy: 0.8565 - val_loss: 0.5513 - val_accuracy: 0.7917\n",
      "Epoch 97/100\n",
      "17/17 [==============================] - 2s 106ms/step - loss: 0.4481 - accuracy: 0.8537 - val_loss: 0.5480 - val_accuracy: 0.7917\n",
      "Epoch 98/100\n",
      "17/17 [==============================] - 2s 106ms/step - loss: 0.4447 - accuracy: 0.8583 - val_loss: 0.5451 - val_accuracy: 0.7917\n",
      "Epoch 99/100\n",
      "17/17 [==============================] - 2s 106ms/step - loss: 0.4414 - accuracy: 0.8611 - val_loss: 0.5427 - val_accuracy: 0.8000\n",
      "Epoch 100/100\n",
      "17/17 [==============================] - 2s 106ms/step - loss: 0.4380 - accuracy: 0.8630 - val_loss: 0.5413 - val_accuracy: 0.7917\n"
     ]
    }
   ],
   "source": [
    "train_dataset = tf.data.Dataset.from_tensor_slices((X_train, Y_train)).batch(64)\n",
    "test_dataset = tf.data.Dataset.from_tensor_slices((X_test, Y_test)).batch(64)\n",
    "history = conv_model.fit(train_dataset, epochs=100, validation_data=test_dataset)"
   ]
  },
  {
   "cell_type": "markdown",
   "metadata": {},
   "source": [
    "<a name='5'></a>\n",
    "## 5 - History Object \n",
    "\n",
    "The history object is an output of the `.fit()` operation, and provides a record of all the loss and metric values in memory. It's stored as a dictionary that you can retrieve at `history.history`: "
   ]
  },
  {
   "cell_type": "code",
   "execution_count": 26,
   "metadata": {},
   "outputs": [
    {
     "data": {
      "text/plain": [
       "{'loss': [1.7997244596481323,\n",
       "  1.7828919887542725,\n",
       "  1.7770750522613525,\n",
       "  1.771621823310852,\n",
       "  1.765120029449463,\n",
       "  1.7571070194244385,\n",
       "  1.747372031211853,\n",
       "  1.7360732555389404,\n",
       "  1.7216309309005737,\n",
       "  1.7045652866363525,\n",
       "  1.6840180158615112,\n",
       "  1.6594489812850952,\n",
       "  1.6284940242767334,\n",
       "  1.5942188501358032,\n",
       "  1.5564944744110107,\n",
       "  1.515397071838379,\n",
       "  1.470542073249817,\n",
       "  1.4226372241973877,\n",
       "  1.3754819631576538,\n",
       "  1.3301479816436768,\n",
       "  1.2883613109588623,\n",
       "  1.2490077018737793,\n",
       "  1.2117277383804321,\n",
       "  1.1770161390304565,\n",
       "  1.144625186920166,\n",
       "  1.1152721643447876,\n",
       "  1.0874141454696655,\n",
       "  1.0618822574615479,\n",
       "  1.0382546186447144,\n",
       "  1.0150343179702759,\n",
       "  0.9929871559143066,\n",
       "  0.9719159007072449,\n",
       "  0.9519423842430115,\n",
       "  0.9326063394546509,\n",
       "  0.9139965772628784,\n",
       "  0.8959912061691284,\n",
       "  0.8786572217941284,\n",
       "  0.8619899153709412,\n",
       "  0.8457805514335632,\n",
       "  0.8303293585777283,\n",
       "  0.8155299425125122,\n",
       "  0.8010770678520203,\n",
       "  0.7874240875244141,\n",
       "  0.7746864557266235,\n",
       "  0.7626606822013855,\n",
       "  0.7507036924362183,\n",
       "  0.7392698526382446,\n",
       "  0.728255033493042,\n",
       "  0.7180840373039246,\n",
       "  0.708082914352417,\n",
       "  0.6980429887771606,\n",
       "  0.6887996792793274,\n",
       "  0.6799300312995911,\n",
       "  0.6710352301597595,\n",
       "  0.6627870798110962,\n",
       "  0.6544960737228394,\n",
       "  0.6470037698745728,\n",
       "  0.6390773057937622,\n",
       "  0.6320573687553406,\n",
       "  0.6245425343513489,\n",
       "  0.6177122592926025,\n",
       "  0.6109422445297241,\n",
       "  0.6044823527336121,\n",
       "  0.5981433391571045,\n",
       "  0.5921422839164734,\n",
       "  0.5860231518745422,\n",
       "  0.5801724195480347,\n",
       "  0.5746316313743591,\n",
       "  0.5688404440879822,\n",
       "  0.5629128813743591,\n",
       "  0.5588276386260986,\n",
       "  0.552888035774231,\n",
       "  0.5479943156242371,\n",
       "  0.5426015853881836,\n",
       "  0.537390410900116,\n",
       "  0.5323642492294312,\n",
       "  0.5282944440841675,\n",
       "  0.5230830907821655,\n",
       "  0.5187769532203674,\n",
       "  0.5138232707977295,\n",
       "  0.5094245076179504,\n",
       "  0.5050711631774902,\n",
       "  0.5006518959999084,\n",
       "  0.49657243490219116,\n",
       "  0.4926445186138153,\n",
       "  0.4884033799171448,\n",
       "  0.4846130311489105,\n",
       "  0.48063892126083374,\n",
       "  0.4768502712249756,\n",
       "  0.4730720818042755,\n",
       "  0.4693078398704529,\n",
       "  0.4654170870780945,\n",
       "  0.4617653489112854,\n",
       "  0.4581787586212158,\n",
       "  0.45464766025543213,\n",
       "  0.45115524530410767,\n",
       "  0.44809409976005554,\n",
       "  0.44469308853149414,\n",
       "  0.44137611985206604,\n",
       "  0.4380446970462799],\n",
       " 'accuracy': [0.1509259194135666,\n",
       "  0.182407408952713,\n",
       "  0.23796296119689941,\n",
       "  0.2620370388031006,\n",
       "  0.2759259343147278,\n",
       "  0.30092594027519226,\n",
       "  0.3296296298503876,\n",
       "  0.3499999940395355,\n",
       "  0.35185185074806213,\n",
       "  0.385185182094574,\n",
       "  0.4138889014720917,\n",
       "  0.4296296238899231,\n",
       "  0.4574074149131775,\n",
       "  0.4842592477798462,\n",
       "  0.5074074268341064,\n",
       "  0.5157407522201538,\n",
       "  0.529629647731781,\n",
       "  0.5425925850868225,\n",
       "  0.5527777671813965,\n",
       "  0.5648148059844971,\n",
       "  0.5777778029441833,\n",
       "  0.5916666388511658,\n",
       "  0.6074073910713196,\n",
       "  0.6203703880310059,\n",
       "  0.6277777552604675,\n",
       "  0.6398147940635681,\n",
       "  0.644444465637207,\n",
       "  0.6490740776062012,\n",
       "  0.6555555462837219,\n",
       "  0.6601851582527161,\n",
       "  0.6694444417953491,\n",
       "  0.6740740537643433,\n",
       "  0.6814814805984497,\n",
       "  0.6888889074325562,\n",
       "  0.6953703761100769,\n",
       "  0.7027778029441833,\n",
       "  0.710185170173645,\n",
       "  0.7120370268821716,\n",
       "  0.7175925970077515,\n",
       "  0.7250000238418579,\n",
       "  0.7287036776542664,\n",
       "  0.7333333492279053,\n",
       "  0.7370370626449585,\n",
       "  0.7416666746139526,\n",
       "  0.7435185313224792,\n",
       "  0.7472222447395325,\n",
       "  0.75,\n",
       "  0.7509258985519409,\n",
       "  0.7555555701255798,\n",
       "  0.7648147940635681,\n",
       "  0.7648147940635681,\n",
       "  0.7685185074806213,\n",
       "  0.770370364189148,\n",
       "  0.7768518328666687,\n",
       "  0.7805555462837219,\n",
       "  0.7824074029922485,\n",
       "  0.7824074029922485,\n",
       "  0.7861111164093018,\n",
       "  0.7907407283782959,\n",
       "  0.7935185432434082,\n",
       "  0.7916666865348816,\n",
       "  0.800000011920929,\n",
       "  0.8009259104728699,\n",
       "  0.8018518686294556,\n",
       "  0.8037037253379822,\n",
       "  0.8064814805984497,\n",
       "  0.8083333373069763,\n",
       "  0.8101851940155029,\n",
       "  0.8138889074325562,\n",
       "  0.8148148059844971,\n",
       "  0.8166666626930237,\n",
       "  0.8203703761100769,\n",
       "  0.8231481313705444,\n",
       "  0.824999988079071,\n",
       "  0.824999988079071,\n",
       "  0.8268518447875977,\n",
       "  0.8268518447875977,\n",
       "  0.8305555582046509,\n",
       "  0.8314814567565918,\n",
       "  0.8324074149131775,\n",
       "  0.8379629850387573,\n",
       "  0.8388888835906982,\n",
       "  0.8407407402992249,\n",
       "  0.8407407402992249,\n",
       "  0.8435184955596924,\n",
       "  0.8425925970077515,\n",
       "  0.8435184955596924,\n",
       "  0.845370352268219,\n",
       "  0.845370352268219,\n",
       "  0.845370352268219,\n",
       "  0.8462963104248047,\n",
       "  0.8481481671333313,\n",
       "  0.8490740656852722,\n",
       "  0.8500000238418579,\n",
       "  0.8509259223937988,\n",
       "  0.8564814925193787,\n",
       "  0.8537036776542664,\n",
       "  0.8583333492279053,\n",
       "  0.8611111044883728,\n",
       "  0.8629629611968994],\n",
       " 'val_loss': [1.7896522283554077,\n",
       "  1.7859232425689697,\n",
       "  1.7825740575790405,\n",
       "  1.7773600816726685,\n",
       "  1.7714027166366577,\n",
       "  1.7644836902618408,\n",
       "  1.7559224367141724,\n",
       "  1.7457363605499268,\n",
       "  1.7321810722351074,\n",
       "  1.7166186571121216,\n",
       "  1.6973991394042969,\n",
       "  1.6733757257461548,\n",
       "  1.6458789110183716,\n",
       "  1.6152664422988892,\n",
       "  1.5806635618209839,\n",
       "  1.5428608655929565,\n",
       "  1.5010221004486084,\n",
       "  1.4572066068649292,\n",
       "  1.4131823778152466,\n",
       "  1.3733947277069092,\n",
       "  1.3343963623046875,\n",
       "  1.296992540359497,\n",
       "  1.2599025964736938,\n",
       "  1.2239512205123901,\n",
       "  1.1914273500442505,\n",
       "  1.1594024896621704,\n",
       "  1.1297495365142822,\n",
       "  1.1032941341400146,\n",
       "  1.0772863626480103,\n",
       "  1.0513979196548462,\n",
       "  1.0288325548171997,\n",
       "  1.0072122812271118,\n",
       "  0.9859908819198608,\n",
       "  0.967103123664856,\n",
       "  0.9490631222724915,\n",
       "  0.9314931035041809,\n",
       "  0.9154979586601257,\n",
       "  0.8993316292762756,\n",
       "  0.8836542367935181,\n",
       "  0.8690102100372314,\n",
       "  0.8546391129493713,\n",
       "  0.8411598205566406,\n",
       "  0.8287210464477539,\n",
       "  0.8174380660057068,\n",
       "  0.8060664534568787,\n",
       "  0.795644223690033,\n",
       "  0.7861186861991882,\n",
       "  0.776404082775116,\n",
       "  0.7677412629127502,\n",
       "  0.7592185735702515,\n",
       "  0.751210629940033,\n",
       "  0.7438856959342957,\n",
       "  0.7363436222076416,\n",
       "  0.730038583278656,\n",
       "  0.722804844379425,\n",
       "  0.7163416147232056,\n",
       "  0.7101285457611084,\n",
       "  0.7038530707359314,\n",
       "  0.6986091732978821,\n",
       "  0.6917713284492493,\n",
       "  0.6869412660598755,\n",
       "  0.6815996766090393,\n",
       "  0.6770526766777039,\n",
       "  0.6708180904388428,\n",
       "  0.6669760346412659,\n",
       "  0.6616525053977966,\n",
       "  0.6570550203323364,\n",
       "  0.6515201330184937,\n",
       "  0.6457601189613342,\n",
       "  0.6413660645484924,\n",
       "  0.6334935426712036,\n",
       "  0.629102349281311,\n",
       "  0.6260329484939575,\n",
       "  0.622018039226532,\n",
       "  0.618113100528717,\n",
       "  0.6162181496620178,\n",
       "  0.6111482977867126,\n",
       "  0.607666015625,\n",
       "  0.6039446592330933,\n",
       "  0.6004077792167664,\n",
       "  0.5969419479370117,\n",
       "  0.5936247706413269,\n",
       "  0.5904098153114319,\n",
       "  0.5873788595199585,\n",
       "  0.5843549370765686,\n",
       "  0.5812405943870544,\n",
       "  0.5781632661819458,\n",
       "  0.575413167476654,\n",
       "  0.571597695350647,\n",
       "  0.567838728427887,\n",
       "  0.5652273893356323,\n",
       "  0.5624768137931824,\n",
       "  0.559493362903595,\n",
       "  0.5568018555641174,\n",
       "  0.55377197265625,\n",
       "  0.5513047575950623,\n",
       "  0.5480431914329529,\n",
       "  0.5451260805130005,\n",
       "  0.5427074432373047,\n",
       "  0.5412987470626831],\n",
       " 'val_accuracy': [0.125,\n",
       "  0.15000000596046448,\n",
       "  0.15000000596046448,\n",
       "  0.18333333730697632,\n",
       "  0.23333333432674408,\n",
       "  0.2750000059604645,\n",
       "  0.2916666567325592,\n",
       "  0.28333333134651184,\n",
       "  0.2916666567325592,\n",
       "  0.32499998807907104,\n",
       "  0.3583333194255829,\n",
       "  0.3916666805744171,\n",
       "  0.4166666567325592,\n",
       "  0.4333333373069763,\n",
       "  0.4416666626930237,\n",
       "  0.46666666865348816,\n",
       "  0.4833333194255829,\n",
       "  0.49166667461395264,\n",
       "  0.5083333253860474,\n",
       "  0.5249999761581421,\n",
       "  0.5249999761581421,\n",
       "  0.5333333611488342,\n",
       "  0.5333333611488342,\n",
       "  0.5333333611488342,\n",
       "  0.5333333611488342,\n",
       "  0.5666666626930237,\n",
       "  0.574999988079071,\n",
       "  0.574999988079071,\n",
       "  0.574999988079071,\n",
       "  0.6000000238418579,\n",
       "  0.6166666746139526,\n",
       "  0.625,\n",
       "  0.6499999761581421,\n",
       "  0.6499999761581421,\n",
       "  0.6666666865348816,\n",
       "  0.675000011920929,\n",
       "  0.6916666626930237,\n",
       "  0.6916666626930237,\n",
       "  0.699999988079071,\n",
       "  0.7166666388511658,\n",
       "  0.7166666388511658,\n",
       "  0.7333333492279053,\n",
       "  0.7416666746139526,\n",
       "  0.7416666746139526,\n",
       "  0.75,\n",
       "  0.75,\n",
       "  0.75,\n",
       "  0.75,\n",
       "  0.7583333253860474,\n",
       "  0.7583333253860474,\n",
       "  0.7666666507720947,\n",
       "  0.7583333253860474,\n",
       "  0.7583333253860474,\n",
       "  0.7583333253860474,\n",
       "  0.7583333253860474,\n",
       "  0.7583333253860474,\n",
       "  0.7583333253860474,\n",
       "  0.7583333253860474,\n",
       "  0.75,\n",
       "  0.75,\n",
       "  0.75,\n",
       "  0.7583333253860474,\n",
       "  0.7583333253860474,\n",
       "  0.7583333253860474,\n",
       "  0.7583333253860474,\n",
       "  0.75,\n",
       "  0.7583333253860474,\n",
       "  0.7583333253860474,\n",
       "  0.75,\n",
       "  0.7583333253860474,\n",
       "  0.75,\n",
       "  0.75,\n",
       "  0.7583333253860474,\n",
       "  0.75,\n",
       "  0.7666666507720947,\n",
       "  0.7666666507720947,\n",
       "  0.7666666507720947,\n",
       "  0.7666666507720947,\n",
       "  0.7666666507720947,\n",
       "  0.7666666507720947,\n",
       "  0.7666666507720947,\n",
       "  0.7666666507720947,\n",
       "  0.7666666507720947,\n",
       "  0.7666666507720947,\n",
       "  0.7749999761581421,\n",
       "  0.7833333611488342,\n",
       "  0.7833333611488342,\n",
       "  0.7916666865348816,\n",
       "  0.7916666865348816,\n",
       "  0.7916666865348816,\n",
       "  0.7916666865348816,\n",
       "  0.7916666865348816,\n",
       "  0.7916666865348816,\n",
       "  0.7916666865348816,\n",
       "  0.7916666865348816,\n",
       "  0.7916666865348816,\n",
       "  0.7916666865348816,\n",
       "  0.7916666865348816,\n",
       "  0.800000011920929,\n",
       "  0.7916666865348816]}"
      ]
     },
     "execution_count": 26,
     "metadata": {},
     "output_type": "execute_result"
    }
   ],
   "source": [
    "history.history"
   ]
  },
  {
   "cell_type": "markdown",
   "metadata": {},
   "source": [
    "Now visualize the loss over time using `history.history`: "
   ]
  },
  {
   "cell_type": "code",
   "execution_count": 27,
   "metadata": {},
   "outputs": [
    {
     "data": {
      "text/plain": [
       "[Text(0, 0.5, 'Accuracy'), Text(0.5, 0, 'Epoch')]"
      ]
     },
     "execution_count": 27,
     "metadata": {},
     "output_type": "execute_result"
    },
    {
     "data": {
      "image/png": "[encoded data removed]",
      "text/plain": [
       "<Figure size 864x576 with 1 Axes>"
      ]
     },
     "metadata": {
      "needs_background": "light"
     },
     "output_type": "display_data"
    },
    {
     "data": {
      "image/png": "[encoded data removed]",
      "text/plain": [
       "<Figure size 864x576 with 1 Axes>"
      ]
     },
     "metadata": {
      "needs_background": "light"
     },
     "output_type": "display_data"
    }
   ],
   "source": [
    "# The history.history[\"loss\"] entry is a dictionary with as many values as epochs that the\n",
    "# model was trained on. \n",
    "df_loss_acc = pd.DataFrame(history.history)\n",
    "df_loss= df_loss_acc[['loss','val_loss']]\n",
    "df_loss.rename(columns={'loss':'train','val_loss':'validation'},inplace=True)\n",
    "df_acc= df_loss_acc[['accuracy','val_accuracy']]\n",
    "df_acc.rename(columns={'accuracy':'train','val_accuracy':'validation'},inplace=True)\n",
    "df_loss.plot(title='Model loss',figsize=(12,8)).set(xlabel='Epoch',ylabel='Loss')\n",
    "df_acc.plot(title='Model Accuracy',figsize=(12,8)).set(xlabel='Epoch',ylabel='Accuracy')"
   ]
  },
  {
   "cell_type": "markdown",
   "metadata": {},
   "source": [
    "**Congratulations**! You've finished the assignment and built two models: One that recognizes  smiles, and another that recognizes SIGN language with almost 80% accuracy on the test set. In addition to that, you now also understand the applications of two Keras APIs: Sequential and Functional. Nicely done! \n",
    "\n",
    "By now, you know a bit about how the Functional API works and may have glimpsed the possibilities. In your next assignment, you'll really get a feel for its power when you get the opportunity to build a very deep ConvNet, using ResNets! "
   ]
  },
  {
   "cell_type": "markdown",
   "metadata": {},
   "source": [
    "<a name='6'></a>\n",
    "## 6 - Bibliography\n",
    "\n",
    "You're always encouraged to read the official documentation. To that end, you can find the docs for the Sequential and Functional APIs here: \n",
    "\n",
    "https://www.tensorflow.org/guide/keras/sequential_model\n",
    "\n",
    "https://www.tensorflow.org/guide/keras/functional"
   ]
  }
 ],
 "metadata": {
  "coursera": {
   "course_slug": "convolutional-neural-networks",
   "graded_item_id": "bwbJV",
   "launcher_item_id": "0TkXB"
  },
  "kernelspec": {
   "display_name": "Python 3",
   "language": "python",
   "name": "python3"
  },
  "language_info": {
   "codemirror_mode": {
    "name": "ipython",
    "version": 3
   },
   "file_extension": ".py",
   "mimetype": "text/x-python",
   "name": "python",
   "nbconvert_exporter": "python",
   "pygments_lexer": "ipython3",
   "version": "3.7.6"
  }
 },
 "nbformat": 4,
 "nbformat_minor": 2
}
